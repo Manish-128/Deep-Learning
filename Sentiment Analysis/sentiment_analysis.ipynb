{
 "cells": [
  {
   "cell_type": "markdown",
   "metadata": {},
   "source": [
    "   TWITTER SENTIMENT ANALYSIS USING LSTM\n",
    "\n",
    "Within this python notebook , we are going to do the twitter sentiment analysis, using the dataset from kaggle : https://www.kaggle.com/datasets/jp797498e/twitter-entity-sentiment-analysis\n",
    "\n",
    "\n",
    "In this notebook we are going to do \n",
    "\n",
    "1. Importing the Dataset\n",
    "2. Differentiating Labels and Features\n",
    "3. Text Preprocessing \n",
    "4. Label Encoding \n",
    "5. Tokenization\n",
    "6. LSTM model architecture\n",
    "7. model compilation and traininig\n",
    "8. metrics visualization"
   ]
  },
  {
   "cell_type": "code",
   "execution_count": 1,
   "metadata": {},
   "outputs": [],
   "source": [
    "#  Importing the Required Libraries\n",
    "import pandas as pd\n",
    "import numpy as np\n",
    "from sklearn.model_selection import train_test_split\n",
    "from sklearn.preprocessing import LabelEncoder\n",
    "import re\n",
    "from tensorflow.keras.preprocessing.text import Tokenizer\n",
    "from tensorflow.keras.preprocessing.sequence import pad_sequences\n",
    "from tensorflow.keras.models import Sequential\n",
    "from tensorflow.keras.layers import Embedding, LSTM, Dense, Dropout"
   ]
  },
  {
   "cell_type": "markdown",
   "metadata": {},
   "source": [
    "1. IMPORTING THE DATASET\n",
    "2. DIFFERENTIATING THE LABELS"
   ]
  },
  {
   "cell_type": "code",
   "execution_count": 2,
   "metadata": {},
   "outputs": [],
   "source": [
    "#  Training Dataset\n",
    "df = pd.read_csv(r\"M:\\Dataset\\RNN\\Twitter_Analysis\\twitter_training.csv\")\n",
    "feature = df.iloc[:,-1].values\n",
    "label = df.iloc[:,-2].values\n",
    "\n",
    "# Validation Dataset\n",
    "val_df = pd.read_csv(r\"M:\\Dataset\\RNN\\Twitter_Analysis\\twitter_validation.csv\")\n",
    "val_feature = val_df.iloc[:,-1].values\n",
    "val_label = val_df.iloc[:,-2].values"
   ]
  },
  {
   "cell_type": "markdown",
   "metadata": {},
   "source": [
    "3. TEXT PREPROCESSING"
   ]
  },
  {
   "cell_type": "code",
   "execution_count": 3,
   "metadata": {},
   "outputs": [],
   "source": [
    "#  Functions to convert the data into lowercase , and remove its punctuations\n",
    "def lower_case_and_remove_punctuation(arr):\n",
    "    def process_string(s):\n",
    "        if isinstance(s, str):\n",
    "            s = s.lower()\n",
    "            s = re.sub(r'[^\\w\\s]', '', s)\n",
    "        return s\n",
    "\n",
    "    process_func = np.vectorize(process_string)\n",
    "    return process_func(arr)"
   ]
  },
  {
   "cell_type": "code",
   "execution_count": 4,
   "metadata": {},
   "outputs": [],
   "source": [
    "feature = lower_case_and_remove_punctuation(feature)"
   ]
  },
  {
   "cell_type": "markdown",
   "metadata": {},
   "source": [
    "4. LABEL ENCODING"
   ]
  },
  {
   "cell_type": "code",
   "execution_count": 5,
   "metadata": {},
   "outputs": [
    {
     "name": "stdout",
     "output_type": "stream",
     "text": [
      "[0 1 2 3]\n"
     ]
    }
   ],
   "source": [
    "# Encoding the Labels into Numeric Values\n",
    "LE = LabelEncoder()\n",
    "\n",
    "y = LE.fit_transform(label)\n",
    "num_classes = np.unique(y)\n",
    "print(num_classes)"
   ]
  },
  {
   "cell_type": "markdown",
   "metadata": {},
   "source": [
    "5. TOKENIZATION"
   ]
  },
  {
   "cell_type": "code",
   "execution_count": 6,
   "metadata": {},
   "outputs": [
    {
     "name": "stdout",
     "output_type": "stream",
     "text": [
      "[[2], [], [5], [316], [], [656], [847], [164], [], [5], [], [1287], [605], [516], [5], [164], [], [1287], [200], [645]]\n"
     ]
    }
   ],
   "source": [
    "# Word Tokenization \n",
    "max_words = 5000  \n",
    "max_len = 200    \n",
    "\n",
    "tokenizer = Tokenizer(num_words=max_words)\n",
    "tokenizer.fit_on_texts(feature)\n",
    "sequences = tokenizer.texts_to_sequences(feature)\n",
    "\n",
    "X = pad_sequences(sequences, maxlen=max_len)\n",
    "print(tokenizer.texts_to_sequences(\"i am not a great guy\"))"
   ]
  },
  {
   "cell_type": "code",
   "execution_count": 8,
   "metadata": {},
   "outputs": [
    {
     "name": "stdout",
     "output_type": "stream",
     "text": [
      "40547\n"
     ]
    }
   ],
   "source": [
    "print(len(tokenizer.word_index))"
   ]
  },
  {
   "cell_type": "code",
   "execution_count": 15,
   "metadata": {},
   "outputs": [],
   "source": [
    "#  Preprocessing the validation dataset\n",
    "val_feature  = lower_case_and_remove_punctuation(val_feature)\n",
    "Sequences2 = tokenizer.texts_to_sequences(val_feature)\n",
    "\n",
    "val_X = pad_sequences(Sequences2, maxlen=max_len)\n",
    "\n",
    "val_y = LE.fit_transform(val_label)"
   ]
  },
  {
   "cell_type": "markdown",
   "metadata": {},
   "source": [
    "6. MODEL ARCHITECTURE"
   ]
  },
  {
   "cell_type": "code",
   "execution_count": 16,
   "metadata": {},
   "outputs": [
    {
     "name": "stdout",
     "output_type": "stream",
     "text": [
      "Model: \"sequential_1\"\n",
      "_________________________________________________________________\n",
      " Layer (type)                Output Shape              Param #   \n",
      "=================================================================\n",
      " embedding_1 (Embedding)     (None, 200, 128)          640000    \n",
      "                                                                 \n",
      " lstm_1 (LSTM)               (None, 64)                49408     \n",
      "                                                                 \n",
      " dropout_1 (Dropout)         (None, 64)                0         \n",
      "                                                                 \n",
      " dense_1 (Dense)             (None, 4)                 260       \n",
      "                                                                 \n",
      "=================================================================\n",
      "Total params: 689,668\n",
      "Trainable params: 689,668\n",
      "Non-trainable params: 0\n",
      "_________________________________________________________________\n"
     ]
    }
   ],
   "source": [
    "#  Model Architecture serving Accuracy = 94.5 and Validation Accuracy = 94.10\n",
    "model = Sequential()\n",
    "model.add(Embedding(input_dim=max_words, output_dim=128, input_length=max_len))\n",
    "model.add(LSTM(64, return_sequences=False))\n",
    "model.add(Dropout(0.2))\n",
    "\n",
    "model.add(Dense(len(num_classes), activation='softmax'))\n",
    "model.summary()"
   ]
  },
  {
   "cell_type": "markdown",
   "metadata": {},
   "source": [
    "7. MODEL COMPILATION"
   ]
  },
  {
   "cell_type": "code",
   "execution_count": 17,
   "metadata": {},
   "outputs": [],
   "source": [
    "# Optimizers and Loss Function\n",
    "model.compile(optimizer='adam', loss='sparse_categorical_crossentropy', metrics=['accuracy'])"
   ]
  },
  {
   "cell_type": "markdown",
   "metadata": {},
   "source": [
    "7. MODEL TRAINING"
   ]
  },
  {
   "cell_type": "code",
   "execution_count": 22,
   "metadata": {},
   "outputs": [
    {
     "name": "stdout",
     "output_type": "stream",
     "text": [
      "Epoch 1/10\n",
      "983/983 [==============================] - 26s 27ms/step - loss: 0.2277 - accuracy: 0.9109 - val_loss: 0.3064 - val_accuracy: 0.9309\n",
      "Epoch 2/10\n",
      "983/983 [==============================] - 27s 27ms/step - loss: 0.2023 - accuracy: 0.9196 - val_loss: 0.3019 - val_accuracy: 0.9289\n",
      "Epoch 3/10\n",
      "983/983 [==============================] - 26s 27ms/step - loss: 0.1911 - accuracy: 0.9244 - val_loss: 0.2981 - val_accuracy: 0.9319\n",
      "Epoch 4/10\n",
      "983/983 [==============================] - 26s 26ms/step - loss: 0.1803 - accuracy: 0.9279 - val_loss: 0.2962 - val_accuracy: 0.9339\n",
      "Epoch 5/10\n",
      "983/983 [==============================] - 27s 27ms/step - loss: 0.1649 - accuracy: 0.9330 - val_loss: 0.3207 - val_accuracy: 0.9369\n",
      "Epoch 6/10\n",
      "983/983 [==============================] - 26s 26ms/step - loss: 0.1557 - accuracy: 0.9362 - val_loss: 0.2994 - val_accuracy: 0.9479\n",
      "Epoch 7/10\n",
      "983/983 [==============================] - 26s 27ms/step - loss: 0.1475 - accuracy: 0.9385 - val_loss: 0.3149 - val_accuracy: 0.9449\n",
      "Epoch 8/10\n",
      "983/983 [==============================] - 26s 27ms/step - loss: 0.1448 - accuracy: 0.9400 - val_loss: 0.3193 - val_accuracy: 0.9389\n",
      "Epoch 9/10\n",
      "983/983 [==============================] - 26s 26ms/step - loss: 0.1415 - accuracy: 0.9407 - val_loss: 0.3566 - val_accuracy: 0.9459\n",
      "Epoch 10/10\n",
      "983/983 [==============================] - 26s 27ms/step - loss: 0.1324 - accuracy: 0.9444 - val_loss: 0.3691 - val_accuracy: 0.9419\n"
     ]
    }
   ],
   "source": [
    "#  Model Training \n",
    "history = model.fit(X, y,batch_size = 76, epochs=10, validation_data=(val_X, val_y))"
   ]
  },
  {
   "cell_type": "markdown",
   "metadata": {},
   "source": [
    "8. METRICS VISUALIZATION"
   ]
  },
  {
   "cell_type": "code",
   "execution_count": 23,
   "metadata": {},
   "outputs": [
    {
     "data": {
      "image/png": "[encoded data removed]",
      "text/plain": [
       "<Figure size 1400x700 with 1 Axes>"
      ]
     },
     "metadata": {},
     "output_type": "display_data"
    }
   ],
   "source": [
    "#  Accuracy and Validation Accuracy Visualization\n",
    "import matplotlib.pyplot as plt\n",
    "import seaborn as sns\n",
    "acc = history.history['accuracy']\n",
    "val_acc = history.history['val_accuracy']\n",
    "epochs = range(len(acc))\n",
    "fig = plt.figure(figsize=(14,7))\n",
    "plt.plot(epochs,acc,'r',label=\"Training Accuracy\")\n",
    "plt.plot(epochs,val_acc,'b',label=\"Validation Accuracy\")\n",
    "plt.legend(loc='upper left')\n",
    "plt.show()"
   ]
  },
  {
   "cell_type": "code",
   "execution_count": 24,
   "metadata": {},
   "outputs": [],
   "source": [
    "model.save(r\"M:\\Internship\\Week 1\\Sentiment_Analysis\\SA.keras\")"
   ]
  },
  {
   "cell_type": "markdown",
   "metadata": {},
   "source": [
    "EXAMPLES "
   ]
  },
  {
   "cell_type": "code",
   "execution_count": 39,
   "metadata": {},
   "outputs": [
    {
     "name": "stdout",
     "output_type": "stream",
     "text": [
      "1/1 [==============================] - 0s 60ms/step\n",
      "Sample: do you know about that circus ? -> Predicted label: Irrelevant\n",
      "Sample: This admin is really good -> Predicted label: Positive\n",
      "Sample: I just hate this Twitter -> Predicted label: Negative\n",
      "Sample: Hmmmmmmmmmmm -> Predicted label: Neutral\n"
     ]
    }
   ],
   "source": [
    "# Simple Use Cases\n",
    "sample2 = [\n",
    "        \"do you know about that circus ?\",\n",
    "        \"This admin is really good\",\n",
    "        \"I just hate this Twitter\",\n",
    "        \"Hmmmmmmmmmmm\"\n",
    "          ]\n",
    "example2 = tokenizer.texts_to_sequences(sample2)\n",
    "\n",
    "new_texts2 = pad_sequences(example2, maxlen=max_len)\n",
    "\n",
    "prediction2 = model.predict(new_texts2)\n",
    "\n",
    "predicted_indices = np.argmax(prediction2, axis=1)\n",
    "predicted_labels = LE.inverse_transform(predicted_indices)\n",
    "\n",
    "for sample, label in zip(sample2, predicted_labels):\n",
    "    print(f\"Sample: {sample} -> Predicted label: {label}\")"
   ]
  },
  {
   "cell_type": "code",
   "execution_count": null,
   "metadata": {},
   "outputs": [],
   "source": []
  }
 ],
 "metadata": {
  "kernelspec": {
   "display_name": "Python 3",
   "language": "python",
   "name": "python3"
  },
  "language_info": {
   "codemirror_mode": {
    "name": "ipython",
    "version": 3
   },
   "file_extension": ".py",
   "mimetype": "text/x-python",
   "name": "python",
   "nbconvert_exporter": "python",
   "pygments_lexer": "ipython3",
   "version": "3.10.0"
  }
 },
 "nbformat": 4,
 "nbformat_minor": 2
}
